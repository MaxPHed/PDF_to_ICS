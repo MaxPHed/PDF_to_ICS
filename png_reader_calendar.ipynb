{
 "cells": [
  {
   "cell_type": "code",
   "execution_count": null,
   "outputs": [],
   "source": [
    "import cv2\n",
    "import numpy as np\n",
    "import matplotlib.pyplot as plt\n",
    "\n",
    "def detect_lines(image):\n",
    "    # Initialize two empty lists to store the horizontal and vertical lines\n",
    "    horizontal_lines = []\n",
    "    vertical_lines = []\n",
    "\n",
    "    # Scan the image for horizontal lines\n",
    "    for y in range(image.shape[0]):\n",
    "        white_pixels = []\n",
    "        for x in range(image.shape[1]):\n",
    "            if image[y, x] == 255:  # White pixel\n",
    "                white_pixels.append((x, y))\n",
    "            elif white_pixels:\n",
    "                if len(white_pixels) >= 400:\n",
    "                    horizontal_lines.append(white_pixels)\n",
    "                white_pixels = []\n",
    "        if white_pixels and len(white_pixels) >= 400:\n",
    "            horizontal_lines.append(white_pixels)\n",
    "\n",
    "    # Scan the image for vertical lines\n",
    "    for x in range(image.shape[1]):\n",
    "        white_pixels = []\n",
    "        for y in range(image.shape[0]):\n",
    "            if image[y, x] == 255:  # White pixel\n",
    "                white_pixels.append((x, y))\n",
    "            elif white_pixels:\n",
    "                if len(white_pixels) >= 200:\n",
    "                    vertical_lines.append(white_pixels)\n",
    "                white_pixels = []\n",
    "        if white_pixels and len(white_pixels) >= 200:\n",
    "            vertical_lines.append(white_pixels)\n",
    "\n",
    "    return horizontal_lines, vertical_lines\n",
    "\n",
    "\n",
    "# Load the image in full color\n",
    "color_image = cv2.imread('schema_pic.png', cv2.IMREAD_COLOR)\n",
    "\n",
    "# Convert the color image to grayscale\n",
    "gray_image = cv2.cvtColor(color_image, cv2.COLOR_BGR2GRAY)\n",
    "\n",
    "# Threshold the image to get a binary image\n",
    "_, binary_image = cv2.threshold(gray_image, 150, 255, cv2.THRESH_BINARY_INV)\n",
    "\n",
    "# Detect the lines in the image\n",
    "horizontal_lines, vertical_lines = detect_lines(binary_image)\n",
    "\n",
    "\n",
    "# Create a copy of the color image to draw the lines on\n",
    "line_image = np.copy(color_image)\n",
    "\n",
    "# Draw the lines on the image\n",
    "for line in horizontal_lines:\n",
    "    for x, y in line:\n",
    "        line_image[y, x] = [0, 0, 255]  # Set the color of the line pixels to red\n",
    "\n",
    "for line in vertical_lines:\n",
    "    for x, y in line:\n",
    "        line_image[y, x] = [0, 0, 255]  # Set the color of the line pixels to red\n",
    "\n",
    "# Display the image with the detected lines\n",
    "plt.figure(figsize=(15,15))\n",
    "plt.imshow(cv2.cvtColor(line_image, cv2.COLOR_BGR2RGB))\n",
    "plt.show()\n",
    "\n",
    "print(len(vertical_lines))\n",
    "print(len(horizontal_lines))\n"
   ],
   "metadata": {
    "collapsed": false,
    "pycharm": {
     "is_executing": true
    }
   }
  },
  {
   "cell_type": "code",
   "execution_count": null,
   "outputs": [],
   "source": [
    "def merge_lines(lines, is_horizontal=True, thickness_threshold=10, length_threshold=10):\n",
    "    if not lines:\n",
    "        return []\n",
    "\n",
    "    # Sorting criterion depends on whether the lines are horizontal or vertical\n",
    "    sort_index = 1 if is_horizontal else 0\n",
    "    lines.sort(key=lambda line: (line[0][sort_index], line[0][1-sort_index]))\n",
    "\n",
    "    merged_lines = []\n",
    "    current_line = lines[0]\n",
    "\n",
    "    for next_line in lines[1:]:\n",
    "        # Check whether the lines are neighboring and part of the same grid line\n",
    "        if abs(current_line[0][sort_index] - next_line[0][sort_index]) <= thickness_threshold and \\\n",
    "                abs(current_line[-1][1-sort_index] - next_line[0][1-sort_index]) <= thickness_threshold:\n",
    "            # Merge the lines by taking union of pixels\n",
    "            current_line = list(set(current_line) | set(next_line))\n",
    "        else:\n",
    "            # Only add line if it exceeds the minimum length\n",
    "            if len(current_line) >= length_threshold:\n",
    "                merged_lines.append(current_line)\n",
    "            current_line = next_line\n",
    "\n",
    "    # Add the last line if it exceeds the minimum length\n",
    "    if len(current_line) >= length_threshold:\n",
    "        merged_lines.append(current_line)\n",
    "\n",
    "    return merged_lines\n",
    "\n",
    "\n",
    "\n",
    "# Merge the lines\n",
    "merged_horizontal_lines = merge_lines(horizontal_lines, True)\n",
    "merged_vertical_lines = merge_lines(vertical_lines, False)\n",
    "\n",
    "print(len(merged_vertical_lines))  # Print the number of merged lines\n",
    "print(len(merged_horizontal_lines))  # Print the number of merged lines\n",
    "\n",
    "# Create a copy of the color image to draw the lines on\n",
    "line_image1 = np.copy(color_image)\n",
    "\n",
    "# Draw the lines on the image\n",
    "# List of 10 different RGB color values\n",
    "colors = [\n",
    "    [255, 0, 0],    # Red\n",
    "    [0, 255, 0],    # Green\n",
    "    [0, 0, 255],    # Blue\n",
    "    [255, 255, 0],  # Yellow\n",
    "    [0, 255, 255],  # Cyan\n",
    "    [255, 0, 255],  # Magenta\n",
    "    [192, 192, 192],# Silver\n",
    "    [128, 0, 0],    # Maroon\n",
    "    [128, 128, 0],  # Olive\n",
    "    [0, 128, 0],    # Dark Green\n",
    "]\n",
    "\n",
    "color_index = 0\n",
    "\n",
    "for line in merged_horizontal_lines:\n",
    "    for x, y in line:\n",
    "        line_image1[y, x] = colors[color_index]  # Set the color of the line pixels\n",
    "    color_index = (color_index + 1) % len(colors)  # Cycle through the colors\n",
    "\n",
    "for line in merged_vertical_lines:\n",
    "    for x, y in line:\n",
    "        line_image1[y, x] = colors[color_index]  # Set the color of the line pixels\n",
    "    color_index = (color_index + 1) % len(colors)  # Cycle through the colors\n",
    "\n",
    "# Display the image with the detected lines\n",
    "plt.figure(figsize=(15,15))\n",
    "plt.imshow(cv2.cvtColor(line_image1, cv2.COLOR_BGR2RGB))\n",
    "plt.show()\n"
   ],
   "metadata": {
    "collapsed": false,
    "pycharm": {
     "is_executing": true
    }
   }
  },
  {
   "cell_type": "code",
   "execution_count": null,
   "outputs": [],
   "source": [
    "def get_cells(horizontal_lines, vertical_lines):\n",
    "    # Flatten the list of lines and separate the x and y coordinates\n",
    "    x_coords = {x for line in vertical_lines for x, _ in line}\n",
    "    y_coords = {y for line in horizontal_lines for _, y in line}\n",
    "\n",
    "    # Convert the sets to sorted lists\n",
    "    x_coords = sorted(list(x_coords))\n",
    "    y_coords = sorted(list(y_coords))\n",
    "\n",
    "    # Get the cells by finding the four corners for each consecutive pair of x and y coordinates\n",
    "    cells = []\n",
    "    for i in range(len(x_coords) - 1):\n",
    "        for j in range(len(y_coords) - 1):\n",
    "            cell = [(x_coords[i], y_coords[j]),\n",
    "                    (x_coords[i+1], y_coords[j]),\n",
    "                    (x_coords[i], y_coords[j+1]),\n",
    "                    (x_coords[i+1], y_coords[j+1])]\n",
    "            cells.append(cell)\n",
    "\n",
    "    return cells\n",
    "\n",
    "cells = get_cells(merged_horizontal_lines, merged_vertical_lines)\n",
    "len(cells)"
   ],
   "metadata": {
    "collapsed": false,
    "pycharm": {
     "is_executing": true
    }
   }
  },
  {
   "cell_type": "code",
   "execution_count": null,
   "outputs": [],
   "source": [
    "# Create a copy of the original image\n",
    "image_with_cells = np.copy(color_image)\n",
    "\n",
    "# Draw rectangles around each cell\n",
    "for cell in cells:\n",
    "    # OpenCV's rectangle function takes two points: the top-left and bottom-right corners of the rectangle\n",
    "    top_left = cell[0]\n",
    "    bottom_right = cell[3]\n",
    "    cv2.rectangle(image_with_cells, top_left, bottom_right, [0, 255, 0], 2)\n",
    "\n",
    "# Display the image with the cells highlighted\n",
    "plt.figure(figsize=(15,15))\n",
    "plt.imshow(cv2.cvtColor(image_with_cells, cv2.COLOR_BGR2RGB))\n",
    "plt.show()\n"
   ],
   "metadata": {
    "collapsed": false,
    "pycharm": {
     "is_executing": true
    }
   }
  },
  {
   "cell_type": "code",
   "execution_count": null,
   "outputs": [],
   "source": [
    "def filter_cells_by_dimensions(cells, min_width=20, min_height=20):\n",
    "    filtered_cells = []\n",
    "\n",
    "    for cell in cells:\n",
    "        # Calculate the width and height of the cell\n",
    "        width = abs(cell[1][0] - cell[0][0])\n",
    "        height = abs(cell[2][1] - cell[0][1])\n",
    "\n",
    "        # Only keep the cell if its width and height are above the specified minimums\n",
    "        if width >= min_width and height >= min_height:\n",
    "            filtered_cells.append(cell)\n",
    "\n",
    "    return filtered_cells\n",
    "\n",
    "cells_filtered = filter_cells_by_dimensions(cells, 10, 10)\n",
    "\n",
    "\n",
    "image_with_cells = np.copy(color_image)\n",
    "\n",
    "\n",
    "\n",
    "# List of colors for the rectangles\n",
    "colors = [[0, 255, 0], [255, 0, 0], [0, 0, 255], [255, 255, 0], [0, 255, 255], [255, 0, 255], [192, 192, 192], [128, 128, 128], [128, 0, 0], [128, 128, 0]]\n",
    "\n",
    "# Create a copy of the original image\n",
    "image_with_cells = color_image.copy()\n",
    "\n",
    "# Draw rectangles around each cell\n",
    "for i, cell in enumerate(cells_filtered):\n",
    "    # OpenCV's rectangle function takes two points: the top-left and bottom-right corners of the rectangle\n",
    "    top_left = cell[0]\n",
    "    bottom_right = cell[3]\n",
    "    # Use different colors for the rectangles\n",
    "    color = colors[i % len(colors)]\n",
    "    cv2.rectangle(image_with_cells, top_left, bottom_right, color, 2)\n",
    "\n",
    "# Display the image with the cells highlighted\n",
    "plt.figure(figsize=(15,15))\n",
    "plt.imshow(cv2.cvtColor(image_with_cells, cv2.COLOR_BGR2RGB))\n",
    "plt.show()\n",
    "\n",
    "\n",
    "len(cells_filtered)"
   ],
   "metadata": {
    "collapsed": false,
    "pycharm": {
     "is_executing": true
    }
   }
  },
  {
   "cell_type": "code",
   "execution_count": null,
   "outputs": [],
   "source": [
    "cells_filtered"
   ],
   "metadata": {
    "collapsed": false,
    "pycharm": {
     "is_executing": true
    }
   }
  },
  {
   "cell_type": "code",
   "execution_count": null,
   "outputs": [],
   "source": [
    " # Create a copy of the image to avoid modifying the original\n",
    "image_copy = color_image.copy()\n",
    "cell = cells_filtered[44]\n",
    "cell_with_date = cell\n",
    "# OpenCV's rectangle function takes two points: the top-left and bottom-right corners of the rectangle\n",
    "top_left = cell[0]\n",
    "bottom_right = cell[3]\n",
    "cv2.rectangle(image_copy, top_left, bottom_right, color, 10)\n",
    "\n",
    "# Display the image with the cell highlighted\n",
    "plt.figure(figsize=(10,10))\n",
    "plt.imshow(cv2.cvtColor(image_copy, cv2.COLOR_BGR2RGB))\n",
    "plt.show()"
   ],
   "metadata": {
    "collapsed": false,
    "pycharm": {
     "is_executing": true
    }
   }
  },
  {
   "cell_type": "code",
   "execution_count": null,
   "outputs": [],
   "source": [
    "\n",
    "def rescale_image(image, new_height=35):\n",
    "    # Get the current dimensions of the image\n",
    "    original_height, original_width = image.shape[:2]\n",
    "\n",
    "    # Calculate the new width while maintaining the aspect ratio\n",
    "    new_width = int(original_width * new_height / original_height)\n",
    "\n",
    "    # Use cv2.resize to resize the image\n",
    "    resized_image = cv2.resize(image, (new_width, new_height), interpolation = cv2.INTER_LINEAR)\n",
    "\n",
    "    return resized_image\n",
    "\n",
    "def crop_borders(image, x):\n",
    "    \"\"\"\n",
    "    Crop the left and top border of an image.\n",
    "\n",
    "    :param image: numpy array\n",
    "        The input image.\n",
    "    :param x: int\n",
    "        The number of pixels to crop from the left and top border.\n",
    "\n",
    "    :return: numpy array\n",
    "        The cropped image.\n",
    "    \"\"\"\n",
    "    height, width = image.shape[:2]\n",
    "    return image[x:height-x, x:width-x]\n",
    "\n",
    "def is_cell_empty(image, variance_threshold=1500):\n",
    "    \"\"\"\n",
    "    Check if a cell is more or less empty.\n",
    "\n",
    "    :param image: numpy array\n",
    "        The input image.\n",
    "    :param variance_threshold: int\n",
    "        The threshold for variance to consider a cell as empty.\n",
    "\n",
    "    :return: boolean\n",
    "        True if the cell is empty, False otherwise.\n",
    "    \"\"\"\n",
    "    #The threshold 1500 is usally enough for an empty cell\n",
    "    return np.var(image) < variance_threshold\n",
    "\n",
    "def move_cell(cell, direction, move_pixels=5):\n",
    "    \"\"\"\n",
    "    Move the boundaries of a cell in a certain direction by a certain number of pixels.\n",
    "\n",
    "    :param cell: list\n",
    "        The cell boundaries in the format [top_left, top_right, bottom_left, bottom_right].\n",
    "    :param direction: str\n",
    "        The direction to move the cell's boundaries. Can be 'left', 'up', 'right', or 'down'.\n",
    "    :param move_pixels: int\n",
    "        The number of pixels to move the cell's boundaries.\n",
    "\n",
    "    :return: list\n",
    "        The new cell.\n",
    "    \"\"\"\n",
    "    # Get the cell's boundaries\n",
    "    top_left = list(cell[0])\n",
    "    bottom_right = list(cell[3])\n",
    "\n",
    "    # Determine the direction to move the cell's boundaries\n",
    "    if direction == 'left':\n",
    "        top_left[0] -= move_pixels\n",
    "        bottom_right[0] -= move_pixels\n",
    "    elif direction == 'up':\n",
    "        top_left[1] -= move_pixels\n",
    "        bottom_right[1] -= move_pixels\n",
    "    elif direction == 'right':\n",
    "        top_left[0] += move_pixels\n",
    "        bottom_right[0] += move_pixels\n",
    "    elif direction == 'down':\n",
    "        top_left[1] += move_pixels\n",
    "        bottom_right[1] += move_pixels\n",
    "\n",
    "    # Return the new cell\n",
    "    new_cell = [top_left, [bottom_right[0], top_left[1]], [top_left[0], bottom_right[1]], bottom_right]\n",
    "\n",
    "    return new_cell\n",
    "\n",
    "import numpy as np\n",
    "\n",
    "def remove_frame(image, threshold=150):\n",
    "    while True:\n",
    "        # Check if the borders are uniformly colored\n",
    "        top_row = image[0, :]\n",
    "        bottom_row = image[-1, :]\n",
    "        left_col = image[:, 0]\n",
    "        right_col = image[:, -1]\n",
    "\n",
    "        # If the borders are uniform and in a shade of black, remove them\n",
    "        if np.all(top_row < threshold):\n",
    "            image = image[1:, :]\n",
    "        elif np.all(bottom_row < threshold):\n",
    "            image = image[:-1, :]\n",
    "        elif np.all(left_col < threshold):\n",
    "            image = image[:, 1:]\n",
    "        elif np.all(right_col < threshold):\n",
    "            image = image[:, :-1]\n",
    "        else:\n",
    "            # If no borders are uniformly colored and in a shade of black, stop the loop\n",
    "            break\n",
    "\n",
    "    return image\n",
    "\n",
    "def remove_border(image, threshold=50):\n",
    "    while True:\n",
    "        # Check the mean color of the border pixels, if it's less than the threshold, remove the border\n",
    "        if np.mean(image[0, :]) < threshold:  # top border\n",
    "            print(f\"Removing top border, mean color: {np.mean(image[0, :])}\")\n",
    "            image = image[1:, :]\n",
    "        elif np.mean(image[-1, :]) < threshold:  # bottom border\n",
    "            print(f\"Removing bottom border, mean color: {np.mean(image[-1, :])}\")\n",
    "            image = image[:-1, :]\n",
    "        elif np.mean(image[:, 0]) < threshold:  # left border\n",
    "            print(f\"Removing left border, mean color: {np.mean(image[:, 0])}\")\n",
    "            image = image[:, 1:]\n",
    "        elif np.mean(image[:, -1]) < threshold:  # right border\n",
    "            print(f\"Removing right border, mean color: {np.mean(image[:, -1])}\")\n",
    "            image = image[:, :-1]\n",
    "        else:\n",
    "            # If no border has mean color less than the threshold, break the loop\n",
    "\n",
    "            break\n",
    "\n",
    "    return image\n",
    "\n",
    "def print_image(image):\n",
    "    plt.figure(figsize=(5,5))\n",
    "    plt.imshow(image, cmap='gray')\n",
    "    plt.show()"
   ],
   "metadata": {
    "collapsed": false,
    "pycharm": {
     "is_executing": true
    }
   }
  },
  {
   "cell_type": "code",
   "execution_count": null,
   "outputs": [],
   "source": [
    "import pytesseract\n",
    "def read_cell(image, cell, type=None, print = False):\n",
    "    if not isinstance(image, np.ndarray) or image.ndim != 2:\n",
    "        raise ValueError(\"Input image must be a 2D numpy array.\")\n",
    "\n",
    "    if not isinstance(cell, list) or len(cell) != 4:\n",
    "        raise ValueError(\"Cell must be a list of 4 points.\")\n",
    "\n",
    "    if not all(0 <= x < image.shape[1] and 0 <= y < image.shape[0] for x, y in cell):\n",
    "        raise ValueError(\"Cell points must lie within the image bounds.\")\n",
    "\n",
    "    cell_contents = {}\n",
    "\n",
    "    # Define cell boundaries\n",
    "    top_left = cell[0]\n",
    "    bottom_right = cell[3]\n",
    "    # Crop the image to the cell's boundaries\n",
    "    cell_image = image[top_left[1]:bottom_right[1], top_left[0]:bottom_right[0]]\n",
    "\n",
    "    #Check if cell is more or less empty\n",
    "\n",
    "    cell_empty = is_cell_empty(cell_image)\n",
    "    config = '--psm 7'\n",
    "    if type == 'digit':\n",
    "        config= '--psm 10'\n",
    "    if cell_empty:\n",
    "        text = 'empty'\n",
    "\n",
    "    else:\n",
    "        #cell_image = crop_borders(cell_image,2)\n",
    "        cell_image = remove_frame(cell_image, 50)\n",
    "\n",
    "        # Use Tesseract to extract the text from the cell\n",
    "        text = pytesseract.image_to_string(cell_image, config=config).strip()  # strip() is used to remove leading and trailing white space\n",
    "\n",
    "        if text == \"\":\n",
    "            cell_image = rescale_image(cell_image)\n",
    "            text = pytesseract.image_to_string(cell_image, config=config).strip()\n",
    "        directions = ['down', 'up', 'left', 'right']\n",
    "\n",
    "        for direction in directions:\n",
    "            if text == \"\":\n",
    "                new_cell = move_cell(cell, direction, 10)\n",
    "                cell_image_moved = image[new_cell[0][1]:new_cell[3][1], new_cell[0][0]:new_cell[3][0]]\n",
    "                text = pytesseract.image_to_string(cell_image_moved, config=config).strip()\n",
    "            else:\n",
    "                break\n",
    "        if text == \"\":\n",
    "            dilated_image = dilate_image(gray_image, cell, 3)\n",
    "            text = pytesseract.image_to_string(dilated_image, config=config).strip()\n",
    "        if text == \"\":\n",
    "            eroded_image = erode_image(gray_image, cell, 3)\n",
    "            text = pytesseract.image_to_string(eroded_image, config=config).strip()\n",
    "        if text == \"\":\n",
    "            text = pytesseract.image_to_string(cell_image, config='--psm 10')\n",
    "            if text == 'oO\\n':\n",
    "                text == \"\"\n",
    "        if text == \"\":\n",
    "            print('Cant regognize')\n",
    "            plt.figure(figsize=(5,5))\n",
    "            plt.imshow(cell_image, cmap='gray')\n",
    "            plt.show()\n",
    "            print(cell)\n",
    "\n",
    "    rect = [top_left, (bottom_right[0], top_left[1]), (top_left[0], bottom_right[1]), bottom_right]\n",
    "    if print: print_image(cell_image)\n",
    "    cell_contents = {'rect': rect, 'content': text}\n",
    "    return cell_contents\n",
    "\n",
    "cell_contents = read_cell(gray_image, cells_filtered[11])\n",
    "cell_contents"
   ],
   "metadata": {
    "collapsed": false,
    "pycharm": {
     "is_executing": true
    }
   }
  },
  {
   "cell_type": "code",
   "execution_count": null,
   "outputs": [],
   "source": [
    "# Initialize an empty list to store the contents of all cells\n",
    "all_cell_contents = []\n",
    "\n",
    "# Loop over cells 3-26\n",
    "for i in range(3, 26):\n",
    "    # Read the cell and append its contents to the list\n",
    "    cell_contents = read_cell(gray_image, cells_filtered[i])\n",
    "    all_cell_contents.append(cell_contents)\n",
    "\n",
    "# Print the contents of all cells\n",
    "for cell in all_cell_contents:\n",
    "    print(cell)\n"
   ],
   "metadata": {
    "collapsed": false,
    "pycharm": {
     "is_executing": true
    }
   }
  },
  {
   "cell_type": "code",
   "execution_count": null,
   "outputs": [],
   "source": [
    "'''all_cell_contents = []\n",
    "\n",
    "# Loop over cells 3-26\n",
    "for cell in cells_filtered:\n",
    "    # Read the cell and append its contents to the list\n",
    "    cell_contents = read_cell(gray_image,cell)\n",
    "    all_cell_contents.extend(cell_contents)'''"
   ],
   "metadata": {
    "collapsed": false,
    "pycharm": {
     "is_executing": true
    }
   }
  },
  {
   "cell_type": "code",
   "execution_count": null,
   "outputs": [],
   "source": [
    "cell_sor = [(276, 648), (317, 648), (276, 664), (317, 664)]\n",
    "cell_ben = [(276, 719), (317, 719), (276, 734), (317, 734)]\n",
    "\n",
    "def dilate_image(image, cell, kernel_size=5):\n",
    "    \"\"\"\n",
    "    Dilate the image.\n",
    "\n",
    "    :param image: numpy array\n",
    "        The input image.\n",
    "    :param cell: list\n",
    "        The cell boundaries in the format [top_left, top_right, bottom_left, bottom_right].\n",
    "    :param kernel_size: int\n",
    "        The size of the kernel used for dilation. A larger kernel_size value means a larger dilation effect.\n",
    "\n",
    "    :return: numpy array\n",
    "        The dilated image.\n",
    "    \"\"\"\n",
    "    # Get the cell's boundaries\n",
    "    top_left = cell[0]\n",
    "    bottom_right = cell[3]\n",
    "\n",
    "    # Crop the image to the cell's boundaries\n",
    "    cell_image = image[top_left[1]:bottom_right[1], top_left[0]:bottom_right[0]]\n",
    "\n",
    "    # Create the kernel for dilation\n",
    "    kernel = np.ones((kernel_size, kernel_size), np.uint8)\n",
    "\n",
    "    # Dilate the image\n",
    "    dilated_image = cv2.dilate(cell_image, kernel, iterations = 1)\n",
    "\n",
    "    return dilated_image\n",
    "\n",
    "def erode_image(image, cell, kernel_size=5):\n",
    "    \"\"\"\n",
    "    Erode the image.\n",
    "\n",
    "    :param image: numpy array\n",
    "        The input image.\n",
    "    :param cell: list\n",
    "        The cell boundaries in the format [top_left, top_right, bottom_left, bottom_right].\n",
    "    :param kernel_size: int\n",
    "        The size of the kernel used for erosion. A larger kernel_size value means a larger erosion effect.\n",
    "\n",
    "    :return: numpy array\n",
    "        The eroded image.\n",
    "    \"\"\"\n",
    "    # Get the cell's boundaries\n",
    "    top_left = cell[0]\n",
    "    bottom_right = cell[3]\n",
    "\n",
    "    # Crop the image to the cell's boundaries\n",
    "    cell_image = image[top_left[1]:bottom_right[1], top_left[0]:bottom_right[0]]\n",
    "\n",
    "    # Create the kernel for erosion\n",
    "    kernel = np.ones((kernel_size, kernel_size), np.uint8)\n",
    "\n",
    "    # Erode the image\n",
    "    eroded_image = cv2.erode(cell_image, kernel, iterations = 1)\n",
    "\n",
    "    return eroded_image\n",
    "\n",
    "dilated_image = dilate_image(gray_image, cell_sor, 3)\n",
    "\n",
    "plt.figure(figsize=(5,5))\n",
    "plt.imshow(dilated_image, cmap='gray')\n",
    "plt.show()\n",
    "\n",
    "eroded_image = erode_image(gray_image, cell_sor, 3)\n",
    "plt.figure(figsize=(5,5))\n",
    "plt.imshow(eroded_image, cmap='gray')\n",
    "plt.show()\n",
    "\n",
    "cell_with_date"
   ],
   "metadata": {
    "collapsed": false,
    "pycharm": {
     "is_executing": true
    }
   }
  },
  {
   "cell_type": "code",
   "execution_count": null,
   "outputs": [],
   "source": [
    "def get_cells_on_row(all_cells, reference_cell, only_right=False):\n",
    "    # Get the y-coordinates of the reference cell\n",
    "    reference_y_top = reference_cell[0][1]\n",
    "    reference_y_bottom = reference_cell[2][1]\n",
    "\n",
    "    # Calculate the y-coordinate of the middle point of the reference cell\n",
    "    reference_y_mid = (reference_y_top + reference_y_bottom) / 2\n",
    "\n",
    "    # Get the x-coordinate of the right edge and left edge of the reference cell\n",
    "    reference_x_right = reference_cell[2][0]\n",
    "    reference_x_left = reference_cell[0][0]\n",
    "\n",
    "    # Initialize an empty list to store the row cells\n",
    "    row_cells = []\n",
    "\n",
    "    # Iterate over all cells\n",
    "    for cell in all_cells:\n",
    "        # Get the y-coordinates of the current cell\n",
    "        cell_y_top = cell[0][1]\n",
    "        cell_y_bottom = cell[2][1]\n",
    "\n",
    "        # Get the x-coordinate of the left and right edge of the current cell\n",
    "        cell_x_left = cell[0][0]\n",
    "        cell_x_right = cell[2][0]\n",
    "\n",
    "        # Check if the reference cell's middle point falls within the y-coordinates of the current cell\n",
    "        if cell_y_top <= reference_y_mid <= cell_y_bottom:\n",
    "            # Check if we only want cells on the right or all cells on the same row\n",
    "            if only_right:\n",
    "                # Only consider the cell if it is to the right of the reference cell\n",
    "                if cell_x_left > reference_x_right:\n",
    "                    row_cells.append(cell)\n",
    "            else:\n",
    "                # Consider all cells on the same row\n",
    "                if cell_x_right >= reference_x_left or cell_x_left <= reference_x_right:\n",
    "                    row_cells.append(cell)\n",
    "\n",
    "    return row_cells\n",
    "\n",
    "\n",
    "reference_cell = [(25, 217), (78, 217), (25, 244), (78, 244)] #A date cell in schema_pic.png\n",
    "#cell_with_date # A cell in schema_pic72.png\n",
    "\n",
    "date_cells = get_cells_on_row(cells_filtered, cell_with_date)\n",
    "date_cells"
   ],
   "metadata": {
    "collapsed": false,
    "pycharm": {
     "is_executing": true
    }
   }
  },
  {
   "cell_type": "code",
   "execution_count": null,
   "outputs": [],
   "source": [
    "date_cell_contents = []\n",
    "for cell in date_cells:\n",
    "    cell_contents = read_cell(gray_image, cell, print = True)\n",
    "    date_cell_contents.append(cell_contents)\n",
    "    print(cell_contents['content'])\n"
   ],
   "metadata": {
    "collapsed": false,
    "pycharm": {
     "is_executing": true
    }
   }
  },
  {
   "cell_type": "code",
   "execution_count": null,
   "outputs": [],
   "source": [
    "date_cell_contents"
   ],
   "metadata": {
    "collapsed": false,
    "pycharm": {
     "is_executing": true
    }
   }
  },
  {
   "cell_type": "code",
   "execution_count": null,
   "outputs": [],
   "source": [
    "import re\n",
    "def remove_empty_cells(cells):\n",
    "    return [cell for cell in cells if cell['content'].strip() != \"\"]\n",
    "def remove_cells_without_dash(cells):\n",
    "    cells_with_dash = [cell for cell in cells if '-' in cell['content']]\n",
    "    return cells_with_dash\n",
    "def fix_cell_dates(cells):\n",
    "    pattern = re.compile(\"([0-3][0-9])-(\\w{3})\")  # Matches 'dd-mmm'\n",
    "\n",
    "    for i in range(len(cells)):\n",
    "        # If the current cell content does not match the pattern\n",
    "        if not pattern.fullmatch(cells[i]['content']):\n",
    "            # If it's not the first cell\n",
    "            if i > 0:\n",
    "                # Get the previous cell's date and increment it\n",
    "                prev_date_match = pattern.fullmatch(cells[i-1]['content'])\n",
    "\n",
    "                if prev_date_match:  # if the previous cell's content was a valid date\n",
    "                    day = int(prev_date_match.group(1))\n",
    "                    month = prev_date_match.group(2)\n",
    "\n",
    "                    # Increment the day and reset to 01 if it reaches 32\n",
    "                    day = day + 1 if day < 31 else 1\n",
    "\n",
    "                    # Format the day to always have 2 digits\n",
    "                    day_str = str(day).zfill(2)\n",
    "\n",
    "                    # Set the current cell's content to the fixed date\n",
    "                    cells[i]['content'] = f\"{day_str}-{month}\"\n",
    "\n",
    "    return cells\n",
    "\n",
    "# Usage\n",
    "date_cell_contents_m = remove_empty_cells(date_cell_contents)\n",
    "date_cell_contents_m = remove_cells_without_dash(date_cell_contents_m)\n",
    "date_cell_contents_m = fix_cell_dates(date_cell_contents_m)\n",
    "\n",
    "len(date_cell_contents_m)\n",
    "\n",
    "date_cell_contents_m"
   ],
   "metadata": {
    "collapsed": false,
    "pycharm": {
     "is_executing": true
    }
   }
  },
  {
   "cell_type": "code",
   "execution_count": null,
   "outputs": [],
   "source": [
    "def retrieve_cells_by_content(cells, content):\n",
    "    matched_cells = []\n",
    "\n",
    "    for cell in cells:\n",
    "        if str(content) in cell['content']:\n",
    "            matched_cells.append(cell)\n",
    "\n",
    "    return matched_cells\n",
    "\n",
    "sign_cells = retrieve_cells_by_content(all_cell_contents, 'HOM')\n",
    "sign_cells"
   ],
   "metadata": {
    "collapsed": false,
    "pycharm": {
     "is_executing": true
    }
   }
  },
  {
   "cell_type": "code",
   "execution_count": null,
   "outputs": [],
   "source": [
    "def retrieve_cells_by_exact_content(cells, content):\n",
    "    matched_cells = []\n",
    "\n",
    "    for cell in cells:\n",
    "        if str(content) == cell['content']:\n",
    "            matched_cells.append(cell)\n",
    "\n",
    "    return matched_cells\n",
    "\n",
    "no_cells = retrieve_cells_by_exact_content(all_cell_contents, '6')\n",
    "no_cells"
   ],
   "metadata": {
    "collapsed": false,
    "pycharm": {
     "is_executing": true
    }
   }
  },
  {
   "cell_type": "code",
   "execution_count": null,
   "outputs": [],
   "source": [
    "def return_sign_and_date_cell(image, cells, sign):\n",
    "    sign_cell = None\n",
    "    date_cell = None\n",
    "\n",
    "    # Create additional search patterns for the sign\n",
    "    search_patterns = [sign.lower(), sign.lower().replace('ö', 'o'), sign.lower().replace('ä', 'a'), sign.lower().replace('å', 'a')]\n",
    "\n",
    "    for cell in cells:\n",
    "        # Read the cell\n",
    "        cell_content = read_cell(image, cell)\n",
    "\n",
    "        # Check cell content for \"sign\" and store the cell if found\n",
    "        if any(pattern in cell_content['content'].lower() for pattern in search_patterns) and sign_cell is None:\n",
    "            sign_cell = cell_content\n",
    "\n",
    "        # Check cell content for the date regex and store the cell if found\n",
    "        elif re.match(r\"\\b(0[1-9]|1[0-9]|2[0-9]|3[0-1])-(jan|feb|mar|apr|maj|jun|jul|aug|sep|okt|nov|dec)\\b\", cell_content['content'].lower()) and date_cell is None:\n",
    "            date_cell = cell_content\n",
    "\n",
    "        # If both \"sign\" and a date have been found, stop reading cells\n",
    "        if sign_cell is not None and date_cell is not None:\n",
    "            break\n",
    "\n",
    "    if sign_cell is None:\n",
    "        raise ValueError(f\"No cell found containing the sign: {sign}\")\n",
    "\n",
    "    if date_cell is None:\n",
    "        raise ValueError(\"No cell found containing a valid date\")\n",
    "\n",
    "    return sign_cell, date_cell\n",
    "\n",
    "\n",
    "\n",
    "\n",
    "sign_cell, date_cell = return_sign_and_date_cell(gray_image, cells_filtered, 'HÖM')\n",
    "print(sign_cell)\n",
    "print(date_cell)"
   ],
   "metadata": {
    "collapsed": false,
    "pycharm": {
     "is_executing": true
    }
   }
  },
  {
   "cell_type": "code",
   "execution_count": null,
   "outputs": [],
   "source": [
    "date_cells = get_cells_on_row(cells_filtered, date_cell['rect'])\n",
    "date_cells"
   ],
   "metadata": {
    "collapsed": false,
    "pycharm": {
     "is_executing": true
    }
   }
  },
  {
   "cell_type": "code",
   "execution_count": null,
   "outputs": [],
   "source": [
    "date_cells_read = []\n",
    "for cell in date_cells:\n",
    "    cell_dic = read_cell(gray_image,cell)\n",
    "    date_cells_read.append(cell_dic)\n",
    "\n",
    "date_cells_filtered = remove_empty_cells(date_cells_read)\n",
    "date_cells_filtered = remove_cells_without_dash(date_cells_filtered)\n",
    "date_cells_filtered = fix_cell_dates(date_cells_filtered)\n",
    "date_cells_filtered"
   ],
   "metadata": {
    "collapsed": false,
    "pycharm": {
     "is_executing": true
    }
   }
  },
  {
   "cell_type": "code",
   "execution_count": null,
   "outputs": [],
   "source": [
    "sign_row = get_cells_on_row(cells_filtered, sign_cell['rect'])\n",
    "sign_row"
   ],
   "metadata": {
    "collapsed": false,
    "pycharm": {
     "is_executing": true
    }
   }
  },
  {
   "cell_type": "code",
   "execution_count": null,
   "outputs": [],
   "source": [
    "#Stores the content of all the cells in the signature row\n",
    "sign_row_read = []\n",
    "for cell in sign_row:\n",
    "    cell_dic = read_cell(gray_image,cell, 'digit')\n",
    "    sign_row_read.append(cell_dic)\n",
    "sign_row_read"
   ],
   "metadata": {
    "collapsed": false,
    "pycharm": {
     "is_executing": true
    }
   }
  },
  {
   "cell_type": "code",
   "execution_count": null,
   "outputs": [],
   "source": [
    "def filter_content(sign_row_read):\n",
    "    # Use list comprehension to filter out unwanted content\n",
    "    filtered_list = [d for d in sign_row_read if not any(unwanted in d['content'] for unwanted in ['-', ':', 'empty', '—'])]\n",
    "\n",
    "    return filtered_list\n",
    "sign_row_read = filter_content(sign_row_read)\n",
    "sign_row_read"
   ],
   "metadata": {
    "collapsed": false,
    "pycharm": {
     "is_executing": true
    }
   }
  },
  {
   "cell_type": "code",
   "execution_count": null,
   "outputs": [],
   "source": [
    "for cell in sign_row:\n",
    "    cell_contents = read_cell(gray_image, cell, 'digit', print = True)\n",
    "    date_cell_contents.append(cell_contents)\n",
    "    print(cell_contents['content'])\n"
   ],
   "metadata": {
    "collapsed": false,
    "pycharm": {
     "is_executing": true
    }
   }
  },
  {
   "cell_type": "code",
   "execution_count": null,
   "outputs": [],
   "source": [
    "#Stores a set with all the unique number values of the row corresponding the signature\n",
    "unique_numbers_in_row = set()\n",
    "for cell in sign_row_read:\n",
    "    content = cell['content']\n",
    "    if content.isdigit() and len(content) <= 2 and int(content) >0:\n",
    "        unique_numbers_in_row.add(int(content))\n",
    "unique_numbers_in_row\n"
   ],
   "metadata": {
    "collapsed": false,
    "pycharm": {
     "is_executing": true
    }
   }
  },
  {
   "cell_type": "code",
   "execution_count": null,
   "outputs": [],
   "source": [
    "def get_hours_keys(unique_numbers_in_row, cells_filtered):\n",
    "    # Definingthe start of the lower 40% of the page\n",
    "    lower_40_threshold = color_image.shape[0] * 0.6\n",
    "\n",
    "    # Copy your set of numbers so you can modify it while iterating\n",
    "    numbers_to_find = unique_numbers_in_row.copy()\n",
    "\n",
    "    # Create an empty list to store the cell contents\n",
    "    cell_contents_hours_key = []\n",
    "\n",
    "    # Iterate over cells\n",
    "    for cell in cells_filtered:\n",
    "        # Get the 'y' attribute as the vertical position\n",
    "        y_position = max(coord[1] for coord in cell)\n",
    "\n",
    "        # Check if the cell is in the lower 40% of the image\n",
    "        if y_position >= lower_40_threshold:\n",
    "\n",
    "            # Read cell and get the content\n",
    "            cell_content = read_cell(gray_image,cell, 'digit', False)\n",
    "            text = cell_content['content']\n",
    "            # If the cell_content is a digit and is in our numbers_to_find\n",
    "            if text.isdigit() and int(text) in numbers_to_find:\n",
    "                # Add cell content to our list\n",
    "                cell_contents_hours_key.append(cell_content)\n",
    "\n",
    "                # Remove the found number from our set\n",
    "                numbers_to_find.remove(int(text))\n",
    "            # If we have found all numbers, break the loop\n",
    "            if len(numbers_to_find) == 0:\n",
    "                break\n",
    "    return cell_contents_hours_key\n",
    "cell_contents_hours_key = get_hours_keys(unique_numbers_in_row, cells_filtered)"
   ],
   "metadata": {
    "collapsed": false,
    "pycharm": {
     "is_executing": true
    }
   }
  },
  {
   "cell_type": "code",
   "execution_count": null,
   "outputs": [],
   "source": [
    "cell_contents_hours_key"
   ],
   "metadata": {
    "collapsed": false,
    "pycharm": {
     "is_executing": true
    }
   }
  },
  {
   "cell_type": "code",
   "execution_count": null,
   "outputs": [],
   "source": [
    "def get_list_of_working_hours(cell_contents_hours_key, cells_filtered):\n",
    "    def get_list_of_working_hours(cell_contents_hours_key, cells_filtered, gray_image):\n",
    "        if not isinstance(cell_contents_hours_key, list) or not isinstance(cells_filtered, list):\n",
    "            raise ValueError(\"Both cell_contents_hours_key and cells_filtered must be lists.\")\n",
    "\n",
    "    if not isinstance(gray_image, np.ndarray) or gray_image.ndim != 2:\n",
    "        raise ValueError(\"gray_image must be a 2D numpy array.\")\n",
    "\n",
    "    if not cell_contents_hours_key:\n",
    "        raise ValueError(\"cell_contents_hours_key cannot be empty.\")\n",
    "\n",
    "    working_hours_list = []\n",
    "    for cell in cell_contents_hours_key:\n",
    "        dic = {}\n",
    "        dic['work_key'] = cell['content']\n",
    "        dic['hours'] = []\n",
    "        cells_to_right = get_cells_on_row(cells_filtered, cell['rect'], only_right=True)\n",
    "        for subcell in cells_to_right[:6]:\n",
    "            subcell_content = read_cell(gray_image, subcell, type = 'digit', print = False)\n",
    "            matches = re.findall(r\"\\b\\d{1,2}[:-]\\d{2}\\b\", subcell_content['content'])\n",
    "            if matches: dic['hours'].extend(matches)  # extend the list with new matches\n",
    "        working_hours_list.append(dic)\n",
    "    return working_hours_list\n",
    "working_hours_list = get_list_of_working_hours(cell_contents_hours_key, cells_filtered)\n",
    "working_hours_list"
   ],
   "metadata": {
    "collapsed": false,
    "pycharm": {
     "is_executing": true
    }
   }
  },
  {
   "cell_type": "code",
   "execution_count": null,
   "outputs": [],
   "source": [
    "def combine_hours(working_hours_list):\n",
    "    if not isinstance(working_hours_list, list):\n",
    "        raise ValueError(\"working_hours_list must be a list.\")\n",
    "\n",
    "    new_dict = {}\n",
    "\n",
    "    for dic in working_hours_list:\n",
    "        if not isinstance(dic, dict) or 'work_key' not in dic or 'hours' not in dic:\n",
    "            raise ValueError(\"Each item in working_hours_list must be a dictionary with 'work_key' and 'hours' keys.\")\n",
    "\n",
    "        if not isinstance(dic['hours'], list):\n",
    "            raise ValueError(\"The 'hours' value in each dictionary must be a list.\")\n",
    "\n",
    "        hours = dic['hours']\n",
    "        combined_hours = [' '.join(hours[i:i+2]) for i in range(0, len(hours), 2)]\n",
    "        new_dict[dic['work_key']] = combined_hours\n",
    "\n",
    "    return new_dict\n",
    "\n",
    "working_hours_dict = combine_hours(working_hours_list)\n",
    "working_hours_dict"
   ],
   "metadata": {
    "collapsed": false,
    "pycharm": {
     "is_executing": true
    }
   }
  },
  {
   "cell_type": "code",
   "execution_count": null,
   "outputs": [],
   "source": [
    "def get_mid_x(rect):\n",
    "    \"\"\"Get middle x-point of a rectangle\"\"\"\n",
    "    x_left = rect[0][0]\n",
    "    x_right = rect[2][0]\n",
    "    return (x_left + x_right) / 2\n",
    "\n",
    "def find_corresponding_cell(mid_x, sign_row_read):\n",
    "    \"\"\"Find the corresponding cell in sign_row_read that has mid_x within its x range\"\"\"\n",
    "    for cell in sign_row_read:\n",
    "        x_left = cell['rect'][0][0]\n",
    "        x_right = cell['rect'][2][0]\n",
    "        if x_left <= mid_x <= x_right:\n",
    "            return cell\n",
    "    return None\n",
    "\n",
    "def combine_date_and_work_key(date_cells_filtered, sign_row_read):\n",
    "    if not isinstance(date_cells_filtered, list) or not isinstance(sign_row_read, list):\n",
    "        raise ValueError(\"Both date_cells_filtered and sign_row_read must be lists.\")\n",
    "\n",
    "    if not date_cells_filtered:\n",
    "        raise ValueError(\"date_cells_filtered cannot be empty.\")\n",
    "\n",
    "    result_list = []\n",
    "\n",
    "    for date_cell in date_cells_filtered:\n",
    "        mid_x = get_mid_x(date_cell['rect'])\n",
    "        corresponding_cell = find_corresponding_cell(mid_x, sign_row_read)\n",
    "\n",
    "        if corresponding_cell is not None:\n",
    "            result_list.append({'date': date_cell['content'], 'work_hours': corresponding_cell['content']})\n",
    "\n",
    "    return result_list\n",
    "\n",
    "date_work_key_dics = combine_date_and_work_key(date_cells_filtered, sign_row_read)\n",
    "date_work_key_dics\n"
   ],
   "metadata": {
    "collapsed": false,
    "pycharm": {
     "is_executing": true
    }
   }
  },
  {
   "cell_type": "code",
   "execution_count": null,
   "outputs": [],
   "source": [],
   "metadata": {
    "collapsed": false,
    "pycharm": {
     "is_executing": true
    }
   }
  }
 ],
 "metadata": {
  "kernelspec": {
   "display_name": "Python 3",
   "language": "python",
   "name": "python3"
  },
  "language_info": {
   "codemirror_mode": {
    "name": "ipython",
    "version": 2
   },
   "file_extension": ".py",
   "mimetype": "text/x-python",
   "name": "python",
   "nbconvert_exporter": "python",
   "pygments_lexer": "ipython2",
   "version": "2.7.6"
  }
 },
 "nbformat": 4,
 "nbformat_minor": 0
}
