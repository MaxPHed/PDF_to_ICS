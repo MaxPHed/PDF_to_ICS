{
 "cells": [
  {
   "cell_type": "code",
   "execution_count": 194,
   "metadata": {
    "collapsed": true
   },
   "outputs": [
    {
     "name": "stdout",
     "output_type": "stream",
     "text": [
      "['', 'Vecka 318', None, None, None, None, None, None, None, 'Vecka 319', None, None, None, None, None, None, None, 'Vecka 320', None, None, None, None, None, None, None, 'Vecka 321', None, None, None, None, None, None, None, 'Vecka', None, None, None, None, None, None, None, 'Mått', 'Utfall']\n",
      "['Sign', 'Må', 'Ti', 'On', 'To', 'Fr', 'Lö', 'Sö', 'S:a', 'Må', 'Ti', 'On', 'To', 'Fr', 'Lö', 'Sö', 'S:a', 'Må', 'Ti', 'On', 'To', 'Fr', 'Lö', 'Sö', 'S:a', 'Må', 'Ti', 'On', 'To', 'Fr', 'Lö', 'Sö', 'S:a', '', '', '', '', '', '', '', 'S:a', '', '']\n",
      "['Dat', '01-maj', '02-maj', '03-maj', '04-maj', '05-maj', '06-maj', '07-maj', '', '08-maj', '09-maj', '10-maj', '11-maj', '12-maj', '13-maj', '14-maj', '', '15-maj', '16-maj', '17-maj', '18-maj', '19-maj', '20-maj', '21-maj', '', '22-maj', '23-maj', '24-maj', '25-maj', '26-maj', '27-maj', '28-maj', '', '', '', '', '', '', '', '', '', '', '']\n",
      "['AVI', 'FM', 'FM', 'FM', 'FM', 'FM', 'FM', 'FM', '56:00', 'FM', 'FM', '27', '4', '0', '', '', '29:00', 'L', 'L', 'L', '', 'L', '', '', '32:00', '1', '9', '9', '9', '9', '', '8', '45:00', '', '', '', '', '', '', '', '0:00', '162:00', '162:00']\n",
      "['ARO', 'FM', 'FM', 'FM', 'FM', 'FM', 'FM', 'FM', '56:00', 'FM', 'FM', '27', '4', '0', '', '', '29:00', 'L', 'L', 'L', '', 'L', '', '', '32:00', '9', '9', '9', '9', '9', '', '', '45:00', '', '', '', '', '', '', '', '0:00', '162:00', '162:00']\n",
      "['PAC', 'FM', 'FM', 'FM', 'FM', 'FM', 'FM', 'FM', '56:00', 'FM', 'FM', '27', '4', '0', '', '', '29:00', 'L', '43', '', '', '', '', '', '12:12', '9', '', '9', '9', '9', '', '', '36:00', '', '', '', '', '', '', '', '0:00', '133:12', '133:12']\n",
      "['ENG', 'FM', 'FM', 'FM', 'FM', 'FM', 'FM', 'FM', '56:00', 'FM', 'FM', '27', '4', '0', '', '', '29:00', 'L', 'L', 'L', '', 'L', '', '', '32:00', '14', '14', '14', '14', '0', '', '', '34:00', '', '', '', '', '', '', '', '0:00', '151:00', '151:00']\n",
      "['', '', '', '', '', '', '', '', '0:00', '', '', '', '', '', '', '', '0:00', '', '', '', '', '', '', '', '0:00', '', '', '', '', '', '', '', '0:00', '', '', '', '', '', '', '', '0:00', '', '']\n",
      "['LNG', 'FM', 'FM', 'FM', 'FM', 'FM', 'FM', 'FM', '56:00', 'FM', 'FM', '27', '4', '0', '', '', '29:00', 'L', 'L', 'L', '', 'L', '', '', '32:00', '9', '9', '9', '9', '9', '', '9', '54:00', '', '', '', '', '', '', '', '0:00', '171:00', '171:00']\n",
      "['BRO', 'FM', 'FM', 'FM', 'FM', 'FM', 'FM', 'FM', '56:00', 'FM', 'FM', '27', '4', '0', '', '', '29:00', 'L', 'L', 'L', '', 'L', '', '', '32:00', '9', '9', '9', '9', '9', '', '9', '54:00', '', '', '', '', '', '', '', '0:00', '171:00', '171:00']\n",
      "['DOF', 'FM', 'FM', 'FM', 'FM', 'FM', 'FM', 'FM', '56:00', 'FM', 'FM', '27', '4', '0', '', '', '29:00', 'L', 'L', 'L', '', 'L', '', '', '32:00', '9', '9', '9', '9', '9', '', '', '45:00', '', '', '', '', '', '', '', '0:00', '162:00', '162:00']\n",
      "['HÖM', 'FM', 'FM', 'FM', 'FM', '0', '0', '0', '32:00', '0', '0', '9', '4', '0', '', '', '13:00', 'L', '6', '', '', '', '', '', '14:00', '', '', '9', '9', '', '', '', '18:00', '', '', '', '', '', '', '', '0:00', '77:00', '77:00']\n",
      "['CUR', 'FM', 'FM', 'FM', 'FM', 'FM', 'FM', 'FM', '56:00', 'FM', 'FM', '27', '4', '0', '', '', '29:00', 'L', 'L', 'L', '', 'L', '', '', '32:00', '0', '9', '9', '9', '9', '', '', '36:00', '', '', '', '', '', '', '', '0:00', '153:00', '153:00']\n",
      "['', '', '', '', '', '', '', '', '0:00', '', '', '', '', '', '', '', '0:00', '', '', '', '', '', '', '', '0:00', '', '', '', '', '', '', '', '0:00', '', '', '', '', '', '', '', '0:00', '', '']\n",
      "['BÖK', 'FM', 'FM', 'FM', 'FM', 'FM', 'FM', 'FM', '56:00', 'FM', 'FM', '27', '4', '0', '', '', '29:00', 'L', 'L', 'L', '', 'L', '', '', '32:00', '0', '9', '9', '9', '9', '', '', '36:00', '', '', '', '', '', '', '', '0:00', '153:00', '153:00']\n",
      "['HJO', 'FM', 'FM', 'FM', 'FM', 'FM', 'FM', 'FM', '56:00', 'FM', 'FM', '27', '4', '0', '', '', '29:00', 'L', 'L', 'L', '', 'L', '', '', '32:00', '9', '9', '9', '9', '9', '', '', '45:00', '', '', '', '', '', '', '', '0:00', '162:00', '162:00']\n",
      "['HLO', 'FM', 'FM', 'FM', 'FM', 'FM', 'FM', 'FM', '56:00', 'FM', 'FM', '27', '4', '0', '', '', '29:00', 'L', 'L', 'L', '', 'L', '', '', '32:00', '15', '15', '15', '15', '15', '', '', '50:00', '', '', '', '', '', '', '', '0:00', '167:00', '167:00']\n",
      "['SAL', '', '', '', '', '', '', '', '0:00', '', '', '', '', '', '', '', '0:00', '', '', '', '', '', '', '', '0:00', '', '', '', '', '', '', '', '0:00', '', '', '', '', '', '', '', '0:00', '0:00', '0:00']\n",
      "['HEN', 'FM', 'FM', 'FM', 'FM', 'FM', 'FM', 'FM', '56:00', 'FM', 'FM', '27', '4', '0', '', '', '29:00', 'L', 'L', 'L', '', 'L', '', '', '32:00', '0', '9', '9', '9', '9', '', '', '36:00', '', '', '', '', '', '', '', '0:00', '153:00', '153:00']\n",
      "['', '', '', '', '', '', '', '', '0:00', '', '', '', '', '', '', '', '0:00', '', '', '', '', '', '', '', '0:00', '', '', '', '', '', '', '', '0:00', '', '', '', '', '', '', '', '0:00', '', '']\n",
      "['FER', '', '14', '14', '14', '6', '', '', '31:30', '14', '14', '14', '14', '6', '', '', '40:00', '14', '14', '14', '', '6', '', '', '31:30', '14', '14', '14', '14', '6', '', '', '40:00', '', '', '', '', '', '', '', '0:00', '143:00', '143:00']\n",
      "['FRE', '', 'F', 'F', 'F', 'F', '', '', '32:00', 'F', 'F', 'F', 'F', 'F', '', '', '40:00', 'F', 'F', 'F', '', 'F', '', '', '32:00', 'F', 'F', 'F', 'F', 'F', '', '', '40:00', '', '', '', '', '', '', '', '0:00', '144:00', '144:00']\n",
      "['HAC', 'FM', 'FM', 'FM', 'FM', 'FM', 'FM', 'FM', '56:00', 'FM', 'FM', '27', '4', '0', '', '', '29:00', 'L', 'L', 'L', '', 'L', '', '', '32:00', '9', '9', '9', '9', '9', '', '', '45:00', '', '', '', '', '', '', '', '0:00', '162:00', '162:00']\n",
      "['JIO', 'FM', 'FM', 'FM', 'FM', 'FM', 'FM', 'FM', '56:00', 'FM', 'FM', '27', '4', '0', '', '', '29:00', '0', '0', 'L', '', 'L', '', '', '16:00', '9', '9', '9', '9', '9', '', '', '45:00', '', '', '', '', '', '', '', '0:00', '146:00', '146:00']\n",
      "['WMA', 'FM', 'FM', 'FM', 'FM', 'FM', 'FM', 'FM', '56:00', 'FM', 'FM', '27', '4', '0', '', '', '29:00', 'L', 'L', 'L', '', 'L', '', '', '32:00', '9', '9', '9', '9', '9', '', '', '45:00', '', '', '', '', '', '', '', '0:00', '162:00', '162:00']\n",
      "[None, None, None, None, None, None, None, None, None, None, None, None, None, None, None, None, None, None, None, None, '', None, None, None, None, None, None, None, None, None, None, None, None, None, None, None, None, None, None, None, None, None, None]\n",
      "[None, None, None, None, '', 'HEN', None, None, '', 'CUR', None, 'H', 'EN, CU', 'R', None, None, None, None, None, None, '', '', None, None, None, 'HLO', None, None, None, None, '', None, None, None, None, None, None, None, None, None, None, None, None]\n",
      "[None, None, None, None, '', None, None, None, None, None, None, None, None, None, None, None, None, None, None, None, '', '', None, None, None, None, None, None, None, None, None, None, None, None, None, None, None, None, None, None, None, None, None]\n",
      "[None, None, None, None, '', None, None, None, None, None, None, None, None, None, None, None, None, None, None, None, None, None, None, None, None, None, None, None, None, None, None, None, None, None, None, None, None, None, None, None, None, None, None]\n",
      "['1', '7:30 8:30', '', '', '1:00', '11', '7:30 18:30', '', '', '11:00', '21', '8:00 12:00', '13:00 16:00', '17:00 19:30', '9:30', '31', '8:00 12:00', '13:00 16:00', '17:00 18:00', '8:00', '41', '7:30 11:30', '12:00 16:00', '', '8:00']\n",
      "['2', '7:30 9:30', '', '', '2:00', '12', '7:30 19:30', '', '', '12:00', '22', '8:00 16:30', '', '', '8:30', '32', '7:30 12:00', '13:00 16:30', '', '8:00', '42', '0:00 1:30', '13:30 24:00', '', '12:00']\n",
      "['3', '7:30 10:30', '', '', '3:00', '13', '7:30 20:30', '', '', '13:00', '23', '7:30 11:30', '12:00 15:30', '', '7:30', '33', '7:30 9:00', '', '', '1:30', '43', '8:00 12:12', '', '', '4:12']\n",
      "['4', '7:30 11:30', '', '', '4:00', '14', '7:30 11:30', '12:00 16:30', '', '8:30', '24', '7:30 12:00', '12:30 17:00', '', '9:00', '34', '10:00 19:50', '', '', '9:50', '44', '7:30 14:24', '', '', '6:54']\n",
      "['5', '7:30 12:30', '', '', '5:00', '15', '7:00 17:00', '', '', '10:00', '25', '9:00 12:00', '12:30 16:30', '17:00 20:00', '10:00', '35', '7:30 12:00', '', '', '4:30', '45', '7:30 14:06', '', '', '6:36']\n",
      "['6', '7:30 13:30', '', '', '6:00', '16', '12:00 20:30', '', '', '8:30', '26', '8:00 11:30', '', '', '3:30', '36', '7:30 13:00', '', '', '5:30', 'F', '', '', '', '8:00']\n",
      "['7', '7:30 14:30', '', '', '7:00', '17', '7:30 20:30', '', '', '13:00', '27', '8:00 17:00', '', '', '9:00', '37', '7:30 14:00', '', '', '6:30', 'L', '', '', '', '8:00']\n",
      "['8', '7:30 15:30', '', '', '8:00', '18', '7:30 14:00', '', '', '6:30', '28', '7:30 10:00', '', '', '2:30', '38', '7:30 15:00', '', '', '7:30', 'Å', '', '', '', '8:00']\n",
      "['9', '7:30 16:30', '', '', '9:00', '19', '7:00 20:00', '', '', '13:00', '29', '10:00 23:00', '', '', '13:00', '39', '7:15 16:30', '', '', '9:15', 'FM', '8:00 24:00', '0:00 8:00', '', '8:00']\n",
      "['10', '7:30 17:30', '', '', '10:00', '20', '10:00 23:00', '', '', '13:00', '30', '7:30 17:00', '', '', '9:30', '40', '7:30 16:15', '', '', '8:45', 'Ö', '7:30 11:30', '12:00 24:00', '0:00 12:00', '12:00']\n",
      "['SUL', None]\n",
      "['0/Semester/Ledig', '']\n",
      "['Fri=Bytbar Meddela ev. ändring till FTL', None]\n",
      "['Beredskap', 'Beredskap Annan']\n",
      "['Fisk', None]\n",
      "['Borta från divisionen ex möten, kurs mm', None]\n",
      "['Udda tid, må flexas. Utflexning meddelas F', None]\n",
      "['FTL', None]\n",
      "['Mö/Förlängd dager', None]\n",
      "['Föräldraledig/Tjänstledig', None]\n",
      "['Uttag FM-dygns komp', None]\n"
     ]
    }
   ],
   "source": [
    "import main as m\n",
    "import pdfplumber\n",
    "\n",
    "def import_pdf_as_list():\n",
    "\n",
    "    # Läser av tabellerna i en PDF och skapar Listor av listor av dem\n",
    "    with pdfplumber.open('planering.pdf') as pdf:\n",
    "        for page in pdf.pages:\n",
    "            first_page = pdf.pages[1]\n",
    "            tables = first_page.extract_tables()\n",
    "    return tables\n",
    "#Läser av tabellerna i en PDF och skapar Listor av listor av dem\n",
    "tables = import_pdf_as_list()\n",
    "\n",
    "# Skriver ut hur tabbelerna ser ur. Endast för försök\n",
    "for table in tables:\n",
    "    for tab in table:\n",
    "        print(tab)"
   ]
  },
  {
   "cell_type": "code",
   "execution_count": 195,
   "outputs": [
    {
     "name": "stdout",
     "output_type": "stream",
     "text": [
      "['Dat', '01-may', '02-may', '03-may', '04-may', '05-may', '06-may', '07-may', '', '08-may', '09-may', '10-may', '11-may', '12-may', '13-may', '14-may', '', '15-may', '16-may', '17-may', '18-may', '19-may', '20-may', '21-may', '', '22-may', '23-may', '24-may', '25-may', '26-may', '27-may', '28-may', '', '', '', '', '', '', '', '', '', '', '']\n",
      "['HÖM', 'FM', 'FM', 'FM', 'FM', '0', '0', '0', '32:00', '0', '0', '9', '4', '0', '', '', '13:00', 'L', '6', '', '', '', '', '', '14:00', '', '', '9', '9', '', '', '', '18:00', '', '', '', '', '', '', '', '0:00', '77:00', '77:00']\n"
     ]
    }
   ],
   "source": [
    "date_list = None\n",
    "name_list = None\n",
    "\n",
    "#Tar ut en lista med datum och en lista med ett namn(AVI) och sparar som egna listor.\n",
    "for table in tables:\n",
    "    for row in table:\n",
    "        if row and len(row) > 0:\n",
    "            if row[0] == 'Dat':\n",
    "                date_list = [date.replace(\"maj\", \"may\").replace(\"okt\", \"oct\") for date in row]\n",
    "            elif row[0] == 'HÖM':\n",
    "                name_list = row\n",
    "\n",
    "        if date_list and name_list:\n",
    "            break\n",
    "\n",
    "print(date_list)\n",
    "print(name_list)"
   ],
   "metadata": {
    "collapsed": false
   }
  },
  {
   "cell_type": "code",
   "execution_count": 196,
   "outputs": [
    {
     "name": "stdout",
     "output_type": "stream",
     "text": [
      "[{'date': '01-may', 'work_hours': 'FM'}, {'date': '02-may', 'work_hours': 'FM'}, {'date': '03-may', 'work_hours': 'FM'}, {'date': '04-may', 'work_hours': 'FM'}, {'date': '05-may', 'work_hours': '0'}, {'date': '06-may', 'work_hours': '0'}, {'date': '07-may', 'work_hours': '0'}, {'date': '08-may', 'work_hours': '0'}, {'date': '09-may', 'work_hours': '0'}, {'date': '10-may', 'work_hours': '9'}, {'date': '11-may', 'work_hours': '4'}, {'date': '12-may', 'work_hours': '0'}, {'date': '15-may', 'work_hours': 'L'}, {'date': '16-may', 'work_hours': '6'}, {'date': '24-may', 'work_hours': '9'}, {'date': '25-may', 'work_hours': '9'}]\n"
     ]
    }
   ],
   "source": [
    "work_shifts = []\n",
    "\n",
    "# Sätter ihop lista med arbetsnycklar med datum i en lista med dictionarys\n",
    "for idx, date in enumerate(date_list):\n",
    "    if not date or date == 'Dat':\n",
    "        continue\n",
    "\n",
    "    work_hours = name_list[idx]\n",
    "\n",
    "    if work_hours and work_hours != '':\n",
    "        work_shifts.append({\n",
    "            'date': date,\n",
    "            'work_hours': work_hours\n",
    "        })\n",
    "\n",
    "print(work_shifts)"
   ],
   "metadata": {
    "collapsed": false
   }
  },
  {
   "cell_type": "code",
   "execution_count": 197,
   "outputs": [
    {
     "name": "stdout",
     "output_type": "stream",
     "text": [
      "['1', '7:30 8:30', '', '', '1:00', '11', '7:30 18:30', '', '', '11:00', '21', '8:00 12:00', '13:00 16:00', '17:00 19:30', '9:30', '31', '8:00 12:00', '13:00 16:00', '17:00 18:00', '8:00', '41', '7:30 11:30', '12:00 16:00', '', '8:00', '2', '7:30 9:30', '', '', '2:00', '12', '7:30 19:30', '', '', '12:00', '22', '8:00 16:30', '', '', '8:30', '32', '7:30 12:00', '13:00 16:30', '', '8:00', '42', '0:00 1:30', '13:30 24:00', '', '12:00', '3', '7:30 10:30', '', '', '3:00', '13', '7:30 20:30', '', '', '13:00', '23', '7:30 11:30', '12:00 15:30', '', '7:30', '33', '7:30 9:00', '', '', '1:30', '43', '8:00 12:12', '', '', '4:12', '4', '7:30 11:30', '', '', '4:00', '14', '7:30 11:30', '12:00 16:30', '', '8:30', '24', '7:30 12:00', '12:30 17:00', '', '9:00', '34', '10:00 19:50', '', '', '9:50', '44', '7:30 14:24', '', '', '6:54', '5', '7:30 12:30', '', '', '5:00', '15', '7:00 17:00', '', '', '10:00', '25', '9:00 12:00', '12:30 16:30', '17:00 20:00', '10:00', '35', '7:30 12:00', '', '', '4:30', '45', '7:30 14:06', '', '', '6:36', '6', '7:30 13:30', '', '', '6:00', '16', '12:00 20:30', '', '', '8:30', '26', '8:00 11:30', '', '', '3:30', '36', '7:30 13:00', '', '', '5:30', 'F', '', '', '', '8:00', '7', '7:30 14:30', '', '', '7:00', '17', '7:30 20:30', '', '', '13:00', '27', '8:00 17:00', '', '', '9:00', '37', '7:30 14:00', '', '', '6:30', 'L', '', '', '', '8:00', '8', '7:30 15:30', '', '', '8:00', '18', '7:30 14:00', '', '', '6:30', '28', '7:30 10:00', '', '', '2:30', '38', '7:30 15:00', '', '', '7:30', 'Å', '', '', '', '8:00', '9', '7:30 16:30', '', '', '9:00', '19', '7:00 20:00', '', '', '13:00', '29', '10:00 23:00', '', '', '13:00', '39', '7:15 16:30', '', '', '9:15', 'FM', '8:00 24:00', '0:00 8:00', '', '8:00', '10', '7:30 17:30', '', '', '10:00', '20', '10:00 23:00', '', '', '13:00', '30', '7:30 17:00', '', '', '9:30', '40', '7:30 16:15', '', '', '8:45', 'Ö', '7:30 11:30', '12:00 24:00', '0:00 12:00', '12:00']\n"
     ]
    }
   ],
   "source": [
    "#Tar ut alla nycklar för working hour och lägger i en lista\n",
    "working_hours_list = []\n",
    "\n",
    "for table in tables:\n",
    "    for row in table:\n",
    "        if row and len(row) > 0 and row[0] and row[0].isdigit() and 1 <= int(row[0]) <= 10:\n",
    "            working_hours_list.extend(row)\n",
    "\n",
    "print(working_hours_list)\n"
   ],
   "metadata": {
    "collapsed": false
   }
  },
  {
   "cell_type": "code",
   "execution_count": 205,
   "outputs": [
    {
     "name": "stdout",
     "output_type": "stream",
     "text": [
      "Key: FM värde: ['8:00 8:00']\n",
      "Key: Ö värde: ['7:30 11:30', '12:00 24:00', '0:00 12:00', '12:00']\n",
      "Key: 1 värde: ['7:30 8:30', '', '', '1:00']\n",
      "Key: 10 värde: ['7:30 17:30', '', '', '10:00']\n",
      "Key: 11 värde: ['7:30 18:30', '', '', '11:00']\n",
      "Key: 12 värde: ['7:30 19:30', '', '', '12:00']\n",
      "Key: 13 värde: ['7:30 20:30', '', '', '13:00']\n",
      "Key: 14 värde: ['7:30 11:30', '12:00 16:30', '', '8:30']\n",
      "Key: 15 värde: ['7:00 17:00', '', '', '10:00']\n",
      "Key: 16 värde: ['12:00 20:30', '', '', '8:30']\n",
      "Key: 17 värde: ['7:30 20:30', '', '', '13:00']\n",
      "Key: 18 värde: ['7:30 14:00', '', '', '6:30']\n",
      "Key: 19 värde: ['7:00 20:00', '', '', '13:00']\n",
      "Key: 2 värde: ['7:30 9:30', '', '', '2:00']\n",
      "Key: 20 värde: ['10:00 23:00', '', '', '13:00']\n",
      "Key: 21 värde: ['8:00 12:00', '13:00 16:00', '17:00 19:30', '9:30']\n",
      "Key: 22 värde: ['8:00 16:30', '', '', '8:30']\n",
      "Key: 23 värde: ['7:30 11:30', '12:00 15:30', '', '7:30']\n",
      "Key: 24 värde: ['7:30 12:00', '12:30 17:00', '', '9:00']\n",
      "Key: 25 värde: ['9:00 12:00', '12:30 16:30', '17:00 20:00', '10:00']\n",
      "Key: 26 värde: ['8:00 11:30', '', '', '3:30']\n",
      "Key: 27 värde: ['8:00 17:00', '', '', '9:00']\n",
      "Key: 28 värde: ['7:30 10:00', '', '', '2:30']\n",
      "Key: 29 värde: ['10:00 23:00', '', '', '13:00']\n",
      "Key: 3 värde: ['7:30 10:30', '', '', '3:00']\n",
      "Key: 30 värde: ['7:30 17:00', '', '', '9:30']\n",
      "Key: 31 värde: ['8:00 12:00', '13:00 16:00', '17:00 18:00', '8:00']\n",
      "Key: 32 värde: ['7:30 12:00', '13:00 16:30', '', '8:00']\n",
      "Key: 33 värde: ['7:30 9:00', '', '', '1:30']\n",
      "Key: 34 värde: ['10:00 19:50', '', '', '9:50']\n",
      "Key: 35 värde: ['7:30 12:00', '', '', '4:30']\n",
      "Key: 36 värde: ['7:30 13:00', '', '', '5:30']\n",
      "Key: 37 värde: ['7:30 14:00', '', '', '6:30']\n",
      "Key: 38 värde: ['7:30 15:00', '', '', '7:30']\n",
      "Key: 39 värde: ['7:15 16:30', '', '', '9:15']\n",
      "Key: 4 värde: ['7:30 11:30', '', '', '4:00']\n",
      "Key: 40 värde: ['7:30 16:15', '', '', '8:45']\n",
      "Key: 41 värde: ['7:30 11:30', '12:00 16:00', '', '8:00']\n",
      "Key: 42 värde: ['0:00 1:30', '13:30 24:00', '', '12:00']\n",
      "Key: 43 värde: ['8:00 12:12', '', '', '4:12']\n",
      "Key: 44 värde: ['7:30 14:24', '', '', '6:54']\n",
      "Key: 45 värde: ['7:30 14:06', '', '', '6:36']\n",
      "Key: 5 värde: ['7:30 12:30', '', '', '5:00']\n",
      "Key: 6 värde: ['7:30 13:30', '', '', '6:00']\n",
      "Key: 7 värde: ['7:30 14:30', '', '', '7:00']\n",
      "Key: 8 värde: ['7:30 15:30', '', '', '8:00']\n",
      "Key: 9 värde: ['7:30 16:30', '', '', '9:00']\n"
     ]
    }
   ],
   "source": [
    "special_keys = [\"FM\", \"Ö\"]\n",
    "\n",
    "working_hours_dict = {}\n",
    "key = None\n",
    "item_count = 0\n",
    "\n",
    "for item in working_hours_list:\n",
    "    if item and (item.isdigit() or item in special_keys):\n",
    "        key = item\n",
    "        working_hours_dict[key] = []\n",
    "        item_count = 0\n",
    "    else:\n",
    "        if key and item_count < 4:\n",
    "\n",
    "            working_hours_dict[key].append(item)\n",
    "            item_count += 1\n",
    "\n",
    "\n",
    "working_hours_dict = {key: working_hours_dict[key] for key in sorted(working_hours_dict, key=lambda x: (str(x).isdigit(), x))}\n",
    "\n",
    "#GÖr om till FM-dygn\n",
    "if \"FM\" in working_hours_dict:\n",
    "    start_time = working_hours_dict[\"FM\"][0].split(' ')[0]\n",
    "    working_hours_dict[\"FM\"] = [f\"{start_time} {start_time}\"]\n",
    "\n",
    "#print(sorted_working_hours_dict)\n",
    "for key in working_hours_dict:\n",
    "    print(f\"Key: {key} värde: {working_hours_dict[key]}\")"
   ],
   "metadata": {
    "collapsed": false
   }
  },
  {
   "cell_type": "code",
   "execution_count": 199,
   "outputs": [
    {
     "name": "stdout",
     "output_type": "stream",
     "text": [
      "Key: FM värde: ['8:00 24:00', '0:00 8:00']\n",
      "Key: Ö värde: ['7:30 11:30', '12:00 24:00', '0:00 12:00']\n",
      "Key: 1 värde: ['7:30 8:30']\n",
      "Key: 10 värde: ['7:30 17:30']\n",
      "Key: 11 värde: ['7:30 18:30']\n",
      "Key: 12 värde: ['7:30 19:30']\n",
      "Key: 13 värde: ['7:30 20:30']\n",
      "Key: 14 värde: ['7:30 11:30', '12:00 16:30']\n",
      "Key: 15 värde: ['7:00 17:00']\n",
      "Key: 16 värde: ['12:00 20:30']\n",
      "Key: 17 värde: ['7:30 20:30']\n",
      "Key: 18 värde: ['7:30 14:00']\n",
      "Key: 19 värde: ['7:00 20:00']\n",
      "Key: 2 värde: ['7:30 9:30']\n",
      "Key: 20 värde: ['10:00 23:00']\n",
      "Key: 21 värde: ['8:00 12:00', '13:00 16:00', '17:00 19:30']\n",
      "Key: 22 värde: ['8:00 16:30']\n",
      "Key: 23 värde: ['7:30 11:30', '12:00 15:30']\n",
      "Key: 24 värde: ['7:30 12:00', '12:30 17:00']\n",
      "Key: 25 värde: ['9:00 12:00', '12:30 16:30', '17:00 20:00']\n",
      "Key: 26 värde: ['8:00 11:30']\n",
      "Key: 27 värde: ['8:00 17:00']\n",
      "Key: 28 värde: ['7:30 10:00']\n",
      "Key: 29 värde: ['10:00 23:00']\n",
      "Key: 3 värde: ['7:30 10:30']\n",
      "Key: 30 värde: ['7:30 17:00']\n",
      "Key: 31 värde: ['8:00 12:00', '13:00 16:00', '17:00 18:00']\n",
      "Key: 32 värde: ['7:30 12:00', '13:00 16:30']\n",
      "Key: 33 värde: ['7:30 9:00']\n",
      "Key: 34 värde: ['10:00 19:50']\n",
      "Key: 35 värde: ['7:30 12:00']\n",
      "Key: 36 värde: ['7:30 13:00']\n",
      "Key: 37 värde: ['7:30 14:00']\n",
      "Key: 38 värde: ['7:30 15:00']\n",
      "Key: 39 värde: ['7:15 16:30']\n",
      "Key: 4 värde: ['7:30 11:30']\n",
      "Key: 40 värde: ['7:30 16:15']\n",
      "Key: 41 värde: ['7:30 11:30', '12:00 16:00']\n",
      "Key: 42 värde: ['0:00 1:30', '13:30 24:00']\n",
      "Key: 43 värde: ['8:00 12:12']\n",
      "Key: 44 värde: ['7:30 14:24']\n",
      "Key: 45 värde: ['7:30 14:06']\n",
      "Key: 5 värde: ['7:30 12:30']\n",
      "Key: 6 värde: ['7:30 13:30']\n",
      "Key: 7 värde: ['7:30 14:30']\n",
      "Key: 8 värde: ['7:30 15:30']\n",
      "Key: 9 värde: ['7:30 16:30']\n"
     ]
    }
   ],
   "source": [
    "#Ta bort onödiga variabler i working hours dict\n",
    "def remove_last_and_empty(input_list):\n",
    "    return [item for index, item in enumerate(input_list[:-1]) if item]\n",
    "for key in working_hours_dict:\n",
    "    working_hours_dict[key] = remove_last_and_empty(working_hours_dict[key])\n",
    "\n",
    "for key in working_hours_dict:\n",
    "    print(f\"Key: {key} värde: {working_hours_dict[key]}\")"
   ],
   "metadata": {
    "collapsed": false
   }
  },
  {
   "cell_type": "code",
   "execution_count": 200,
   "outputs": [
    {
     "data": {
      "text/plain": "{'FM': ['8:00 24:00', '0:00 8:00'],\n 'Ö': ['7:30 11:30', '12:00 24:00', '0:00 12:00'],\n '1': ['7:30 8:30'],\n '10': ['7:30 17:30'],\n '11': ['7:30 18:30'],\n '12': ['7:30 19:30'],\n '13': ['7:30 20:30'],\n '14': ['7:30 11:30', '12:00 16:30'],\n '15': ['7:00 17:00'],\n '16': ['12:00 20:30'],\n '17': ['7:30 20:30'],\n '18': ['7:30 14:00'],\n '19': ['7:00 20:00'],\n '2': ['7:30 9:30'],\n '20': ['10:00 23:00'],\n '21': ['8:00 12:00', '13:00 16:00', '17:00 19:30'],\n '22': ['8:00 16:30'],\n '23': ['7:30 11:30', '12:00 15:30'],\n '24': ['7:30 12:00', '12:30 17:00'],\n '25': ['9:00 12:00', '12:30 16:30', '17:00 20:00'],\n '26': ['8:00 11:30'],\n '27': ['8:00 17:00'],\n '28': ['7:30 10:00'],\n '29': ['10:00 23:00'],\n '3': ['7:30 10:30'],\n '30': ['7:30 17:00'],\n '31': ['8:00 12:00', '13:00 16:00', '17:00 18:00'],\n '32': ['7:30 12:00', '13:00 16:30'],\n '33': ['7:30 9:00'],\n '34': ['10:00 19:50'],\n '35': ['7:30 12:00'],\n '36': ['7:30 13:00'],\n '37': ['7:30 14:00'],\n '38': ['7:30 15:00'],\n '39': ['7:15 16:30'],\n '4': ['7:30 11:30'],\n '40': ['7:30 16:15'],\n '41': ['7:30 11:30', '12:00 16:00'],\n '42': ['0:00 1:30', '13:30 24:00'],\n '43': ['8:00 12:12'],\n '44': ['7:30 14:24'],\n '45': ['7:30 14:06'],\n '5': ['7:30 12:30'],\n '6': ['7:30 13:30'],\n '7': ['7:30 14:30'],\n '8': ['7:30 15:30'],\n '9': ['7:30 16:30']}"
     },
     "execution_count": 200,
     "metadata": {},
     "output_type": "execute_result"
    }
   ],
   "source": [
    "working_hours_dict"
   ],
   "metadata": {
    "collapsed": false
   }
  },
  {
   "cell_type": "code",
   "execution_count": 202,
   "outputs": [
    {
     "name": "stdout",
     "output_type": "stream",
     "text": [
      "[{'start_datetime': '2023-05-01T08:00:00', 'end_datetime': '2023-05-02T00:00:00'}, {'start_datetime': '2023-05-01T00:00:00', 'end_datetime': '2023-05-01T08:00:00'}, {'start_datetime': '2023-05-02T08:00:00', 'end_datetime': '2023-05-03T00:00:00'}, {'start_datetime': '2023-05-02T00:00:00', 'end_datetime': '2023-05-02T08:00:00'}, {'start_datetime': '2023-05-03T08:00:00', 'end_datetime': '2023-05-04T00:00:00'}, {'start_datetime': '2023-05-03T00:00:00', 'end_datetime': '2023-05-03T08:00:00'}, {'start_datetime': '2023-05-04T08:00:00', 'end_datetime': '2023-05-05T00:00:00'}, {'start_datetime': '2023-05-04T00:00:00', 'end_datetime': '2023-05-04T08:00:00'}]\n"
     ]
    }
   ],
   "source": [
    "from datetime import datetime\n",
    "\n",
    "start_end_dic = []\n",
    "from datetime import timedelta\n",
    "\n",
    "for work_shift in work_shifts:\n",
    "    date_str = work_shift['date']\n",
    "    work_hours_key = int(work_shift['work_hours']) if work_shift['work_hours'].isdigit() else work_shift['work_hours']\n",
    "\n",
    "    date_obj = datetime.strptime(date_str, \"%d-%b\")\n",
    "    date_obj = date_obj.replace(year=datetime.now().year)\n",
    "\n",
    "    if work_hours_key in working_hours_dict:\n",
    "        time_ranges = working_hours_dict[work_hours_key]\n",
    "\n",
    "        for time_range in time_ranges:\n",
    "            if work_hours_key == \"FM\":\n",
    "                start_time_str, end_time_str = time_range.split(' ')\n",
    "\n",
    "                if end_time_str == \"24:00\":\n",
    "                    end_time_str = \"00:00\"\n",
    "                    add_one_day_to_end = True\n",
    "                else:\n",
    "                    add_one_day_to_end = False\n",
    "\n",
    "                start_time_obj = datetime.strptime(start_time_str, \"%H:%M\")\n",
    "                end_time_obj = datetime.strptime(end_time_str, \"%H:%M\")\n",
    "\n",
    "                start_datetime = date_obj.replace(hour=start_time_obj.hour, minute=start_time_obj.minute)\n",
    "                end_datetime = date_obj.replace(hour=end_time_obj.hour, minute=end_time_obj.minute)\n",
    "\n",
    "                if add_one_day_to_end:\n",
    "                    end_datetime += timedelta(days=1)\n",
    "            else:\n",
    "                start_time_str, end_time_str = time_range.split(' ')\n",
    "\n",
    "                if end_time_str == \"24:00\":\n",
    "                    end_time_str = \"00:00\"\n",
    "                    add_one_day_to_end = True\n",
    "                else:\n",
    "                    add_one_day_to_end = False\n",
    "\n",
    "                start_time_obj = datetime.strptime(start_time_str, \"%H:%M\")\n",
    "                end_time_obj = datetime.strptime(end_time_str, \"%H:%M\")\n",
    "\n",
    "                start_datetime = date_obj.replace(hour=start_time_obj.hour, minute=start_time_obj.minute)\n",
    "                end_datetime = date_obj.replace(hour=end_time_obj.hour, minute=end_time_obj.minute)\n",
    "\n",
    "                if add_one_day_to_end:\n",
    "                    end_datetime += timedelta(days=1)\n",
    "\n",
    "            start_end_dic.append({\n",
    "                'start_datetime': start_datetime.isoformat(),\n",
    "                'end_datetime': end_datetime.isoformat()\n",
    "            })\n",
    "\n",
    "print(start_end_dic)\n"
   ],
   "metadata": {
    "collapsed": false
   }
  },
  {
   "cell_type": "code",
   "execution_count": null,
   "outputs": [],
   "source": [
    "from ics import Calendar, Event\n",
    "from dateutil import tz\n",
    "from datetime import datetime\n",
    "\n",
    "# Set your local timezone, e.g., for Sweden (CET/CEST)\n",
    "local_tz = tz.gettz(\"Europe/Stockholm\")\n",
    "\n",
    "# Create a calendar\n",
    "cal = Calendar()\n",
    "\n",
    "# Add events to the calendar for each work shift\n",
    "for work_shift in start_end_dic:\n",
    "    event = Event()\n",
    "    event.name = \"Arbetspass\"  # Set the event name, e.g., \"Arbetspass\"\n",
    "\n",
    "    start_datetime = datetime.fromisoformat(work_shift['start_datetime']).replace(tzinfo=local_tz)\n",
    "    end_datetime = datetime.fromisoformat(work_shift['end_datetime']).replace(tzinfo=local_tz)\n",
    "\n",
    "    event.begin = start_datetime\n",
    "    event.end = end_datetime\n",
    "\n",
    "    cal.events.add(event)\n",
    "\n",
    "# Write the calendar to an .ics file\n",
    "with open(\"arbetspass.ics\", \"w\") as f:\n",
    "    f.write(str(cal))"
   ],
   "metadata": {
    "collapsed": false
   }
  }
 ],
 "metadata": {
  "kernelspec": {
   "display_name": "Python 3",
   "language": "python",
   "name": "python3"
  },
  "language_info": {
   "codemirror_mode": {
    "name": "ipython",
    "version": 2
   },
   "file_extension": ".py",
   "mimetype": "text/x-python",
   "name": "python",
   "nbconvert_exporter": "python",
   "pygments_lexer": "ipython2",
   "version": "2.7.6"
  }
 },
 "nbformat": 4,
 "nbformat_minor": 0
}
